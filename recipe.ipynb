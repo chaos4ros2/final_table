{
 "cells": [
  {
   "cell_type": "code",
   "execution_count": 1,
   "metadata": {},
   "outputs": [],
   "source": [
    "import requests\n",
    "import json\n",
    "import time\n",
    "import pandas as pd\n",
    "from pprint import pprint"
   ]
  },
  {
   "cell_type": "code",
   "execution_count": 2,
   "metadata": {},
   "outputs": [],
   "source": [
    "# 1. 楽天レシピのレシピカテゴリ一覧を取得する\n",
    "\n",
    "res = requests.get('https://app.rakuten.co.jp/services/api/Recipe/CategoryList/20170426?applicationId=1000957752279207210')\n",
    "json_data = json.loads(res.text)\n",
    "\n",
    "parent_dict = {} # mediumカテゴリの親カテゴリの辞書\n",
    "\n",
    "df = pd.DataFrame(columns=['category1','category2','category3','categoryId','categoryName'])\n",
    "\n",
    "for category in json_data['result']['large']:\n",
    "    df = df.append({'category1':category['categoryId'],'category2':\"\",'category3':\"\",'categoryId':category['categoryId'],'categoryName':category['categoryName']}, ignore_index=True)\n",
    "\n",
    "for category in json_data['result']['medium']:\n",
    "    df = df.append({'category1':category['parentCategoryId'],'category2':category['categoryId'],'category3':\"\",'categoryId':str(category['parentCategoryId'])+\"-\"+str(category['categoryId']),'categoryName':category['categoryName']}, ignore_index=True)\n",
    "    parent_dict[str(category['categoryId'])] = category['parentCategoryId']\n",
    "\n",
    "for category in json_data['result']['small']:\n",
    "    df = df.append({'category1':parent_dict[category['parentCategoryId']],'category2':category['parentCategoryId'],'category3':category['categoryId'],'categoryId':parent_dict[category['parentCategoryId']]+\"-\"+str(category['parentCategoryId'])+\"-\"+str(category['categoryId']),'categoryName':category['categoryName']}, ignore_index=True)"
   ]
  },
  {
   "cell_type": "code",
   "execution_count": 3,
   "metadata": {},
   "outputs": [],
   "source": [
    "# 2. キーワードからカテゴリを抽出する\n",
    "df_keyword = df.query('categoryName.str.contains(\"魚\")', engine='python')"
   ]
  },
  {
   "cell_type": "code",
   "execution_count": 6,
   "metadata": {},
   "outputs": [],
   "source": [
    "# pd.set_option('display.max_rows', None)\n",
    "# pd.set_option('display.max_columns', None)\n",
    "# df"
   ]
  },
  {
   "cell_type": "code",
   "execution_count": null,
   "metadata": {},
   "outputs": [],
   "source": []
  },
  {
   "cell_type": "code",
   "execution_count": null,
   "metadata": {},
   "outputs": [],
   "source": []
  }
 ],
 "metadata": {
  "interpreter": {
   "hash": "16d7959710bf52a11ad7ff099a59c32c70fbee543df273817baf4e3d97a6c6fb"
  },
  "kernelspec": {
   "display_name": "Python 3.9.5 ('base')",
   "language": "python",
   "name": "python3"
  },
  "language_info": {
   "codemirror_mode": {
    "name": "ipython",
    "version": 3
   },
   "file_extension": ".py",
   "mimetype": "text/x-python",
   "name": "python",
   "nbconvert_exporter": "python",
   "pygments_lexer": "ipython3",
   "version": "3.9.7"
  },
  "orig_nbformat": 4
 },
 "nbformat": 4,
 "nbformat_minor": 2
}
